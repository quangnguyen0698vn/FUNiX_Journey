{
    "metadata": {
        "kernelspec": {
            "name": "SQL",
            "display_name": "SQL",
            "language": "sql"
        },
        "language_info": {
            "name": "sql",
            "version": ""
        }
    },
    "nbformat_minor": 2,
    "nbformat": 4,
    "cells": [
        {
            "cell_type": "code",
            "source": [
                "CREATE TABLE Persons (\n",
                "  [PersonID] int,\n",
                "  [LastName] varchar(255),\n",
                "  [FirstName] varchar(255),\n",
                "  [Address] varchar(255),\n",
                "  City varchar(255)\n",
                ");"
            ],
            "metadata": {
                "azdata_cell_guid": "cbe7aceb-f379-4134-8f39-44aa865c20ac",
                "language": "sql"
            },
            "outputs": [],
            "execution_count": null
        }
    ]
}