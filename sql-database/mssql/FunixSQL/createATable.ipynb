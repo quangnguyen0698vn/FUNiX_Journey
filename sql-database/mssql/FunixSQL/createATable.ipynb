{
    "metadata": {
        "kernelspec": {
            "name": "SQL",
            "display_name": "SQL",
            "language": "sql"
        },
        "language_info": {
            "name": "sql",
            "version": ""
        }
    },
    "nbformat_minor": 2,
    "nbformat": 4,
    "cells": [
        {
            "cell_type": "code",
            "source": [
                "CREATE TABLE tblEmployee\n",
                "(\n",
                "    EmployeeNumber INT NOT NULL,\n",
                "    EmployeeFirstName VARCHAR(50) NOT NULL,\n",
                "    EmployeeMiddleName VARCHAR(50) NULL,\n",
                "    EmployeeLastName VARCHAR(50) NOT NULL,\n",
                "    EmployeeGovernmentID CHAR(10) NULL,\n",
                "    DateOfBirth DATE NOT NULL\n",
                ")"
            ],
            "metadata": {
                "azdata_cell_guid": "3867fa25-a532-472d-ab7a-095f07a4214c",
                "language": "sql"
            },
            "outputs": [],
            "execution_count": null
        }
    ]
}